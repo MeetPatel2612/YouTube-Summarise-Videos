{
 "cells": [
  {
   "cell_type": "code",
   "execution_count": null,
   "id": "2794d4d7",
   "metadata": {},
   "outputs": [
    {
     "name": "stdout",
     "output_type": "stream",
     "text": [
      " * Serving Flask app '__main__'\n",
      " * Debug mode: off\n"
     ]
    },
    {
     "name": "stderr",
     "output_type": "stream",
     "text": [
      "WARNING: This is a development server. Do not use it in a production deployment. Use a production WSGI server instead.\n",
      " * Running on http://127.0.0.1:8080\n",
      "Press CTRL+C to quit\n"
     ]
    }
   ],
   "source": [
    "from flask import Flask, request\n",
    "from twilio.twiml.messaging_response import MessagingResponse\n",
    "\n",
    "# Create a Flask app instance\n",
    "app = Flask(__name__)\n",
    "\n",
    "@app.route('/summary', methods=['POST', 'GET'])\n",
    "def summary():\n",
    "    url = request.form.get('Body')  # Get the JSON data from the request body\n",
    "    print(url)\n",
    "    if is_youtube_url(url):\n",
    "        response = summarise(url)\n",
    "    else:\n",
    "        response = \"please check if this is a correct youtube video url\"\n",
    "    print(response)\n",
    "    resp = MessagingResponse()\n",
    "    msg = resp.message(\"Received MSG\")\n",
    "    msg.body(response)\n",
    "    return str(resp)\n",
    "\n",
    "if __name__ == '__main__':\n",
    "    app.run(port=8080)"
   ]
  },
  {
   "cell_type": "code",
   "execution_count": null,
   "id": "0cf081c0",
   "metadata": {},
   "outputs": [],
   "source": []
  }
 ],
 "metadata": {
  "kernelspec": {
   "display_name": "Python 3 (ipykernel)",
   "language": "python",
   "name": "python3"
  },
  "language_info": {
   "codemirror_mode": {
    "name": "ipython",
    "version": 3
   },
   "file_extension": ".py",
   "mimetype": "text/x-python",
   "name": "python",
   "nbconvert_exporter": "python",
   "pygments_lexer": "ipython3",
   "version": "3.10.9"
  }
 },
 "nbformat": 4,
 "nbformat_minor": 5
}
